{
  "nbformat": 4,
  "nbformat_minor": 0,
  "metadata": {
    "colab": {
      "provenance": [],
      "authorship_tag": "ABX9TyPAXbhu26nRFLIXMPoLFhIv",
      "include_colab_link": true
    },
    "kernelspec": {
      "name": "python3",
      "display_name": "Python 3"
    },
    "language_info": {
      "name": "python"
    }
  },
  "cells": [
    {
      "cell_type": "markdown",
      "metadata": {
        "id": "view-in-github",
        "colab_type": "text"
      },
      "source": [
        "<a href=\"https://colab.research.google.com/github/Anastasya2701/GOIT-KATRUSHENKO/blob/main/HW7_1.ipynb\" target=\"_parent\"><img src=\"https://colab.research.google.com/assets/colab-badge.svg\" alt=\"Open In Colab\"/></a>"
      ]
    },
    {
      "cell_type": "code",
      "execution_count": 3,
      "metadata": {
        "colab": {
          "base_uri": "https://localhost:8080/"
        },
        "id": "eyczHl5wrjUi",
        "outputId": "3cebd8dc-76ec-43cb-e27f-1424b4be0e7a"
      },
      "outputs": [
        {
          "output_type": "stream",
          "name": "stdout",
          "text": [
            "Collecting surprise\n",
            "  Downloading surprise-0.1-py2.py3-none-any.whl.metadata (327 bytes)\n",
            "Collecting scikit-surprise (from surprise)\n",
            "  Downloading scikit_surprise-1.1.4.tar.gz (154 kB)\n",
            "\u001b[?25l     \u001b[90m━━━━━━━━━━━━━━━━━━━━━━━━━━━━━━━━━━━━━━━━\u001b[0m \u001b[32m0.0/154.4 kB\u001b[0m \u001b[31m?\u001b[0m eta \u001b[36m-:--:--\u001b[0m\r\u001b[2K     \u001b[90m━━━━━━━━━━━━━━━━━━━━━━━━━━━━━━━━━━━━━━━━\u001b[0m \u001b[32m154.4/154.4 kB\u001b[0m \u001b[31m4.4 MB/s\u001b[0m eta \u001b[36m0:00:00\u001b[0m\n",
            "\u001b[?25h  Installing build dependencies ... \u001b[?25l\u001b[?25hdone\n",
            "  Getting requirements to build wheel ... \u001b[?25l\u001b[?25hdone\n",
            "  Preparing metadata (pyproject.toml) ... \u001b[?25l\u001b[?25hdone\n",
            "Requirement already satisfied: joblib>=1.2.0 in /usr/local/lib/python3.10/dist-packages (from scikit-surprise->surprise) (1.4.2)\n",
            "Requirement already satisfied: numpy>=1.19.5 in /usr/local/lib/python3.10/dist-packages (from scikit-surprise->surprise) (1.26.4)\n",
            "Requirement already satisfied: scipy>=1.6.0 in /usr/local/lib/python3.10/dist-packages (from scikit-surprise->surprise) (1.13.1)\n",
            "Downloading surprise-0.1-py2.py3-none-any.whl (1.8 kB)\n",
            "Building wheels for collected packages: scikit-surprise\n",
            "  Building wheel for scikit-surprise (pyproject.toml) ... \u001b[?25l\u001b[?25hdone\n",
            "  Created wheel for scikit-surprise: filename=scikit_surprise-1.1.4-cp310-cp310-linux_x86_64.whl size=2357275 sha256=d639060aeed4757302cb8c3ad4e36be1ff8e1b0797b726ccab309e1772f88648\n",
            "  Stored in directory: /root/.cache/pip/wheels/4b/3f/df/6acbf0a40397d9bf3ff97f582cc22fb9ce66adde75bc71fd54\n",
            "Successfully built scikit-surprise\n",
            "Installing collected packages: scikit-surprise, surprise\n",
            "Successfully installed scikit-surprise-1.1.4 surprise-0.1\n"
          ]
        }
      ],
      "source": [
        "!pip install surprise"
      ]
    },
    {
      "cell_type": "code",
      "source": [
        "from surprise import SVD\n",
        "from surprise import Dataset, Reader\n",
        "from surprise.model_selection import cross_validate\n",
        "from surprise.model_selection import GridSearchCV\n",
        "\n",
        "# Load the movielens-100k dataset (download it if needed).\n",
        "data = Dataset.load_builtin('ml-100k')\n",
        "\n",
        "# Use the famous SVD algorithm.\n",
        "algo = SVD()\n",
        "\n",
        "cross_validate(algo, data, measures=['RMSE', 'MAE'], cv=5, verbose=True)"
      ],
      "metadata": {
        "colab": {
          "base_uri": "https://localhost:8080/"
        },
        "id": "b0TsY1matXyb",
        "outputId": "6b135c77-0bf5-4377-c0b3-9ab75ee59ac9"
      },
      "execution_count": 7,
      "outputs": [
        {
          "output_type": "stream",
          "name": "stdout",
          "text": [
            "Evaluating RMSE, MAE of algorithm SVD on 5 split(s).\n",
            "\n",
            "                  Fold 1  Fold 2  Fold 3  Fold 4  Fold 5  Mean    Std     \n",
            "RMSE (testset)    0.9276  0.9310  0.9453  0.9384  0.9413  0.9367  0.0065  \n",
            "MAE (testset)     0.7312  0.7333  0.7430  0.7428  0.7423  0.7385  0.0052  \n",
            "Fit time          1.38    1.89    1.68    1.41    1.41    1.55    0.20    \n",
            "Test time         0.12    0.20    0.14    0.13    0.35    0.19    0.08    \n"
          ]
        },
        {
          "output_type": "execute_result",
          "data": {
            "text/plain": [
              "{'test_rmse': array([0.9276284 , 0.93096468, 0.94533025, 0.93837089, 0.94129764]),\n",
              " 'test_mae': array([0.7311792 , 0.73328868, 0.74296324, 0.74276271, 0.7422906 ]),\n",
              " 'fit_time': (1.3803317546844482,\n",
              "  1.890488624572754,\n",
              "  1.6761775016784668,\n",
              "  1.4055545330047607,\n",
              "  1.4114482402801514),\n",
              " 'test_time': (0.1233823299407959,\n",
              "  0.20369362831115723,\n",
              "  0.13599276542663574,\n",
              "  0.12568235397338867,\n",
              "  0.34581875801086426)}"
            ]
          },
          "metadata": {},
          "execution_count": 7
        }
      ]
    },
    {
      "cell_type": "code",
      "source": [
        "param_grid = {\n",
        "    'n_factors': [20, 50, 100],\n",
        "    'n_epochs': [20, 30],\n",
        "    'lr_all': [0.002, 0.005],\n",
        "    'reg_all': [0.02, 0.1]\n",
        "}\n",
        "\n",
        "gs = GridSearchCV(SVD, param_grid, measures=['rmse', 'mae'], cv=5)\n",
        "\n",
        "gs.fit(data)\n",
        "\n",
        "gs.best_score['rmse'], gs.best_params['rmse']"
      ],
      "metadata": {
        "colab": {
          "base_uri": "https://localhost:8080/"
        },
        "id": "vodwijjsuaP_",
        "outputId": "b291ee90-6150-4328-d862-c0a13c630e8c"
      },
      "execution_count": 10,
      "outputs": [
        {
          "output_type": "execute_result",
          "data": {
            "text/plain": [
              "(0.9275778866521411,\n",
              " {'n_factors': 100, 'n_epochs': 30, 'lr_all': 0.005, 'reg_all': 0.1})"
            ]
          },
          "metadata": {},
          "execution_count": 10
        }
      ]
    },
    {
      "cell_type": "code",
      "source": [
        "from surprise import SVDpp, NMF"
      ],
      "metadata": {
        "id": "5Hi8pLwgyiAB"
      },
      "execution_count": 11,
      "outputs": []
    },
    {
      "cell_type": "code",
      "source": [
        "algo_svdpp = SVDpp()\n",
        "cross_validate(algo_svdpp, data, measures=['RMSE', 'MAE'], cv=5, verbose=True)\n"
      ],
      "metadata": {
        "colab": {
          "base_uri": "https://localhost:8080/"
        },
        "id": "FEpDsESJystd",
        "outputId": "d501edc8-0785-441b-cf73-0c52d4bd1672"
      },
      "execution_count": 12,
      "outputs": [
        {
          "output_type": "stream",
          "name": "stdout",
          "text": [
            "Evaluating RMSE, MAE of algorithm SVDpp on 5 split(s).\n",
            "\n",
            "                  Fold 1  Fold 2  Fold 3  Fold 4  Fold 5  Mean    Std     \n",
            "RMSE (testset)    0.9144  0.9167  0.9275  0.9218  0.9242  0.9209  0.0048  \n",
            "MAE (testset)     0.7179  0.7212  0.7281  0.7229  0.7239  0.7228  0.0033  \n",
            "Fit time          29.33   28.30   28.85   27.61   27.70   28.36   0.66    \n",
            "Test time         6.81    4.69    4.41    5.55    4.38    5.17    0.92    \n"
          ]
        },
        {
          "output_type": "execute_result",
          "data": {
            "text/plain": [
              "{'test_rmse': array([0.91444811, 0.91669845, 0.92749364, 0.92179752, 0.92423587]),\n",
              " 'test_mae': array([0.717885  , 0.72116961, 0.72806552, 0.72293166, 0.72393878]),\n",
              " 'fit_time': (29.332239627838135,\n",
              "  28.304056406021118,\n",
              "  28.8479163646698,\n",
              "  27.61334252357483,\n",
              "  27.697771549224854),\n",
              " 'test_time': (6.814326763153076,\n",
              "  4.6905481815338135,\n",
              "  4.411224126815796,\n",
              "  5.5532307624816895,\n",
              "  4.382455825805664)}"
            ]
          },
          "metadata": {},
          "execution_count": 12
        }
      ]
    },
    {
      "cell_type": "code",
      "source": [
        "algo_nmf = NMF()\n",
        "cross_validate(algo_nmf, data, measures=['RMSE', 'MAE'], cv=5, verbose=True)"
      ],
      "metadata": {
        "colab": {
          "base_uri": "https://localhost:8080/"
        },
        "id": "_c_uaGcA0AeF",
        "outputId": "42ec5dce-4a4b-43aa-808f-1d8c401308a3"
      },
      "execution_count": 13,
      "outputs": [
        {
          "output_type": "stream",
          "name": "stdout",
          "text": [
            "Evaluating RMSE, MAE of algorithm NMF on 5 split(s).\n",
            "\n",
            "                  Fold 1  Fold 2  Fold 3  Fold 4  Fold 5  Mean    Std     \n",
            "RMSE (testset)    0.9685  0.9618  0.9645  0.9623  0.9652  0.9644  0.0024  \n",
            "MAE (testset)     0.7611  0.7563  0.7581  0.7548  0.7585  0.7577  0.0021  \n",
            "Fit time          2.22    2.80    2.13    2.14    2.19    2.29    0.25    \n",
            "Test time         0.17    0.11    0.29    0.12    0.11    0.16    0.07    \n"
          ]
        },
        {
          "output_type": "execute_result",
          "data": {
            "text/plain": [
              "{'test_rmse': array([0.96847879, 0.96175608, 0.96448469, 0.96230699, 0.96517893]),\n",
              " 'test_mae': array([0.76106993, 0.75627724, 0.75814735, 0.75477919, 0.75846891]),\n",
              " 'fit_time': (2.21737003326416,\n",
              "  2.7994489669799805,\n",
              "  2.1322567462921143,\n",
              "  2.1373372077941895,\n",
              "  2.1862080097198486),\n",
              " 'test_time': (0.17091131210327148,\n",
              "  0.10803413391113281,\n",
              "  0.2920112609863281,\n",
              "  0.11934065818786621,\n",
              "  0.10752153396606445)}"
            ]
          },
          "metadata": {},
          "execution_count": 13
        }
      ]
    },
    {
      "cell_type": "markdown",
      "source": [
        "Висновок:\n",
        "\n",
        " Побудувавши декілька моделей рекомендаційних систем на основі матричної факторизації, використовуючи бібліотеку Surprise та датасет MovieLens. Після експериментів із різними алгоритмами, такими як SVD, SVD++ і NMF, та виконання крос-валідації отримали наступні результати:\n",
        "\n",
        " 1. Алгоритм SVD дав хороший баланс між точністю та швидкістю роботи. Під час крос-валідації середнє значення RMSE склало X (0.9276284). Підбір гіперпараметрів за допомогою GridSearchCV дозволив зменшити помилку до Y (0.9275778866521411).\n",
        " 2. Алгоритм SVD++ показав трохи кращі результати в порівнянні з SVD, але є більш ресурсоємним. Це варто враховувати при роботі з більшими наборами даних або у випадку обмеженого часу на тренування.\n",
        " 3. Алгоритм NMF виявився менш ефективним у порівнянні з SVD та SVD++, але може бути корисним у випадках, коли потрібна інтерпретація компонент.\n",
        "\n",
        "Отже, алгоритм SVD із налаштованими гіперпараметрами став оптимальним вибором для цього завдання, оскільки забезпечує хороший компроміс між точністю прогнозів і швидкістю роботи."
      ],
      "metadata": {
        "id": "Y9kk-hFT0om9"
      }
    }
  ]
}