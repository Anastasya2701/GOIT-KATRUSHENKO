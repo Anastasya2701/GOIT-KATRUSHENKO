{
  "nbformat": 4,
  "nbformat_minor": 0,
  "metadata": {
    "colab": {
      "provenance": []
    },
    "kernelspec": {
      "name": "python3",
      "display_name": "Python 3"
    },
    "language_info": {
      "name": "python"
    }
  },
  "cells": [
    {
      "cell_type": "code",
      "source": [
        "import numpy as np"
      ],
      "metadata": {
        "id": "i6zR41vgQ1IW"
      },
      "execution_count": null,
      "outputs": []
    },
    {
      "cell_type": "code",
      "execution_count": null,
      "metadata": {
        "colab": {
          "base_uri": "https://localhost:8080/"
        },
        "id": "6cMBYEMUPFZN",
        "outputId": "35615073-e400-44eb-fbd0-b72a1d782271"
      },
      "outputs": [
        {
          "output_type": "stream",
          "name": "stdout",
          "text": [
            "[ 0 -1  2 -1  4 -1  6 -1  8 -1]\n"
          ]
        }
      ],
      "source": [
        "arr = np.array([0, 1, 2, 3, 4, 5, 6, 7, 8, 9])\n",
        "indices = arr % 2 == 1\n",
        "arr[indices] = -1\n",
        "print(arr)"
      ]
    },
    {
      "cell_type": "code",
      "source": [
        "one_d = np.array([1, 2, 3, 4, 5, 6])\n",
        "two_d = one_d.reshape(2, -1)\n",
        "print(two_d)"
      ],
      "metadata": {
        "colab": {
          "base_uri": "https://localhost:8080/"
        },
        "id": "qEwjMfqqQzSu",
        "outputId": "3b319d7b-985c-4947-f4fc-59180eda50cf"
      },
      "execution_count": null,
      "outputs": [
        {
          "output_type": "stream",
          "name": "stdout",
          "text": [
            "[[1 2 3]\n",
            " [4 5 6]]\n"
          ]
        }
      ]
    },
    {
      "cell_type": "code",
      "source": [
        "a = np.random.randint(1, 11,(3, 4))\n",
        "b = np.random.randint(1, 11,(2, 4))\n",
        "print(np.vstack((a, b)))"
      ],
      "metadata": {
        "colab": {
          "base_uri": "https://localhost:8080/"
        },
        "id": "Yf_pWiAHSnDt",
        "outputId": "3bb7331b-88c4-47c1-c3eb-b6e7c70120af"
      },
      "execution_count": null,
      "outputs": [
        {
          "output_type": "stream",
          "name": "stdout",
          "text": [
            "[[ 2  2  6  2]\n",
            " [10  5  3  5]\n",
            " [ 8  8  3  1]\n",
            " [ 4  5 10  5]\n",
            " [ 4  4  9  7]]\n"
          ]
        }
      ]
    },
    {
      "cell_type": "code",
      "source": [
        "a = np.array([1, 2, 3])\n",
        "exp_a = np.repeat(a, 3)\n",
        "print(np.tile(exp_a, 2))"
      ],
      "metadata": {
        "colab": {
          "base_uri": "https://localhost:8080/"
        },
        "id": "D6bFYXB_TipH",
        "outputId": "214aca86-ecfc-433f-962b-f3dbaf9bcb76"
      },
      "execution_count": null,
      "outputs": [
        {
          "output_type": "stream",
          "name": "stdout",
          "text": [
            "[1 1 1 2 2 2 3 3 3 1 1 1 2 2 2 3 3 3]\n"
          ]
        }
      ]
    },
    {
      "cell_type": "code",
      "source": [
        "a = np.array([1,2,3,2,3,4,3,4,5,6])\n",
        "b = np.array([7,2,10,2,7,4,9,4,9,8])\n",
        "print(np.intersect1d(a, b))"
      ],
      "metadata": {
        "colab": {
          "base_uri": "https://localhost:8080/"
        },
        "id": "SqUhA-UOVChy",
        "outputId": "09dbf94b-aea0-48a6-9039-45ce85aaf819"
      },
      "execution_count": null,
      "outputs": [
        {
          "output_type": "stream",
          "name": "stdout",
          "text": [
            "[2 4]\n"
          ]
        }
      ]
    },
    {
      "cell_type": "code",
      "source": [
        "np.random.seed(100)\n",
        "a = np.random.uniform(1, 50, 20)\n",
        "i = np.argsort(a)[::-1]\n",
        "i_5 = i[:5]\n",
        "print(a, i_5)"
      ],
      "metadata": {
        "colab": {
          "base_uri": "https://localhost:8080/"
        },
        "id": "rhRT6tM3XATh",
        "outputId": "0c0a73c2-1698-4980-9e3d-92f6e48ae7d8"
      },
      "execution_count": null,
      "outputs": [
        {
          "output_type": "stream",
          "name": "stdout",
          "text": [
            "[27.62684215 14.64009987 21.80136195 42.39403048  1.23122395  6.95688692\n",
            " 33.86670515 41.466785    7.69862289 29.17957314 44.67477576 11.25090398\n",
            " 10.08108276  6.31046763 11.76517714 48.95256545 40.77247431  9.42510962\n",
            " 40.99501269 14.42961361] [15 10  3  7 18]\n"
          ]
        }
      ]
    },
    {
      "cell_type": "code",
      "source": [
        "a = np.array([1, 2, 3, np.nan, 5, 6, 7, np.nan])\n",
        "nan_i = np.isnan(a)\n",
        "a_cl = a[~nan_i]\n",
        "print(a, a_cl)"
      ],
      "metadata": {
        "colab": {
          "base_uri": "https://localhost:8080/"
        },
        "id": "WrxAnJ3KX8ft",
        "outputId": "e902992a-2c67-4234-8050-5d025f32cc0b"
      },
      "execution_count": null,
      "outputs": [
        {
          "output_type": "stream",
          "name": "stdout",
          "text": [
            "[ 1.  2.  3. nan  5.  6.  7. nan] [1. 2. 3. 5. 6. 7.]\n"
          ]
        }
      ]
    },
    {
      "cell_type": "code",
      "source": [
        "a = np.array([1, 2, 3, 4, 5])\n",
        "b = np.array([4, 5, 6, 7, 8])\n",
        "diff = a -b\n",
        "sq_diff = diff ** 2\n",
        "sum_sq_diff = np.sum(sq_diff)\n",
        "print(np.sqrt(sum_sq_diff))"
      ],
      "metadata": {
        "colab": {
          "base_uri": "https://localhost:8080/"
        },
        "id": "BdmBUwolYqDG",
        "outputId": "cdc6ca5c-7ae7-4355-f5fa-14ce0e2d09fe"
      },
      "execution_count": null,
      "outputs": [
        {
          "output_type": "stream",
          "name": "stdout",
          "text": [
            "6.708203932499369\n"
          ]
        }
      ]
    },
    {
      "cell_type": "code",
      "source": [
        "x = np.array([1, 2, 1, 1, 3, 4, 3, 1, 1, 2, 1, 1, 2])\n",
        "i = np.where(x == 1)[0]\n",
        "print(i[4])"
      ],
      "metadata": {
        "colab": {
          "base_uri": "https://localhost:8080/"
        },
        "id": "FEkRUeHIZ8qW",
        "outputId": "8f7f4678-ab8b-41bb-d1d4-6dc8a86b7916"
      },
      "execution_count": null,
      "outputs": [
        {
          "output_type": "stream",
          "name": "stdout",
          "text": [
            "8\n"
          ]
        }
      ]
    },
    {
      "cell_type": "code",
      "source": [
        "np.random.seed(100)\n",
        "a = np.random.randint(0, 5, 10)\n",
        "res = np.zeros_like(a, dtype=bool)\n",
        "\n",
        "for i in range(1, len(a)):\n",
        "  if a[i] == a[i-1]:\n",
        "      res[i] = True\n",
        "print(a, res)"
      ],
      "metadata": {
        "colab": {
          "base_uri": "https://localhost:8080/"
        },
        "id": "cxyJ_8zRatJA",
        "outputId": "2b70e439-e1b6-41ec-f03a-8db426a82471"
      },
      "execution_count": 29,
      "outputs": [
        {
          "output_type": "stream",
          "name": "stdout",
          "text": [
            "[0 0 3 0 2 4 2 2 2 2] [False  True False False False False False  True  True  True]\n"
          ]
        }
      ]
    }
  ]
}