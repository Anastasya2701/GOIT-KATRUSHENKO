{
  "nbformat": 4,
  "nbformat_minor": 0,
  "metadata": {
    "colab": {
      "provenance": []
    },
    "kernelspec": {
      "name": "python3",
      "display_name": "Python 3"
    },
    "language_info": {
      "name": "python"
    }
  },
  "cells": [
    {
      "cell_type": "code",
      "execution_count": 11,
      "metadata": {
        "id": "ygsPp73C-QQt"
      },
      "outputs": [],
      "source": [
        "import numpy as np"
      ]
    },
    {
      "cell_type": "code",
      "source": [
        "vector = np.arange(1, 11)\n",
        "print(vector)"
      ],
      "metadata": {
        "colab": {
          "base_uri": "https://localhost:8080/"
        },
        "id": "S3LcyV2d-2Zd",
        "outputId": "b1815db7-7e41-404f-87b0-59e99d03ad7c"
      },
      "execution_count": 2,
      "outputs": [
        {
          "output_type": "stream",
          "name": "stdout",
          "text": [
            "[ 1  2  3  4  5  6  7  8  9 10]\n"
          ]
        }
      ]
    },
    {
      "cell_type": "code",
      "source": [
        "matrix = np.zeros((3,3))\n",
        "print(matrix)"
      ],
      "metadata": {
        "colab": {
          "base_uri": "https://localhost:8080/"
        },
        "id": "j6C3fWhw_jxl",
        "outputId": "f2c21e1c-fb36-4fe4-fc20-f6e55d5b1946"
      },
      "execution_count": 4,
      "outputs": [
        {
          "output_type": "stream",
          "name": "stdout",
          "text": [
            "[[0. 0. 0.]\n",
            " [0. 0. 0.]\n",
            " [0. 0. 0.]]\n"
          ]
        }
      ]
    },
    {
      "cell_type": "code",
      "source": [
        "matrix = np.random.randint(11, size=(5,5))\n",
        "print(matrix)"
      ],
      "metadata": {
        "colab": {
          "base_uri": "https://localhost:8080/"
        },
        "id": "KZAMwGnaA06L",
        "outputId": "39c654af-3ab4-46a9-9d00-6518a808f2dd"
      },
      "execution_count": 5,
      "outputs": [
        {
          "output_type": "stream",
          "name": "stdout",
          "text": [
            "[[ 0  0  6  0  4]\n",
            " [ 6  2  7  0  1]\n",
            " [ 2  2  8  2 10]\n",
            " [10  6  1  6  0]\n",
            " [ 5  8  4  3  0]]\n"
          ]
        }
      ]
    },
    {
      "cell_type": "code",
      "source": [
        "matrix = np.random.rand(4,4)\n",
        "print(matrix)"
      ],
      "metadata": {
        "colab": {
          "base_uri": "https://localhost:8080/"
        },
        "id": "WT0woBbSA70C",
        "outputId": "5e6b6804-6adf-49cb-aadb-f90a20fc525e"
      },
      "execution_count": 7,
      "outputs": [
        {
          "output_type": "stream",
          "name": "stdout",
          "text": [
            "[[0.1095981  0.18949515 0.34545113 0.02454984]\n",
            " [0.76884843 0.94426749 0.07798229 0.15563862]\n",
            " [0.01938452 0.91811413 0.1355845  0.71111297]\n",
            " [0.83757705 0.65751312 0.98031138 0.97302879]]\n"
          ]
        }
      ]
    },
    {
      "cell_type": "code",
      "source": [
        "M1 = np.random.randint(1, 11, 5)\n",
        "M2 = np.random.randint(1, 11, 5)\n",
        "print(M1, M2)\n",
        "print(M1 + M2)\n",
        "print(M1 - M2)\n",
        "print(M1 * M2)"
      ],
      "metadata": {
        "colab": {
          "base_uri": "https://localhost:8080/"
        },
        "id": "0IKClnsDCcXq",
        "outputId": "d4c58ee9-b491-4056-85ae-95eb04fce691"
      },
      "execution_count": 10,
      "outputs": [
        {
          "output_type": "stream",
          "name": "stdout",
          "text": [
            "[5 8 3 7 8] [ 7 10  4 10  5]\n",
            "[12 18  7 17 13]\n",
            "[-2 -2 -1 -3  3]\n",
            "[35 80 12 70 40]\n"
          ]
        }
      ]
    },
    {
      "cell_type": "code",
      "source": [
        "V1 = np.random.rand(7)\n",
        "V2 = np.random.rand(7)\n",
        "print(np.dot(V1,V2))"
      ],
      "metadata": {
        "colab": {
          "base_uri": "https://localhost:8080/"
        },
        "id": "cXzh5kY0DYns",
        "outputId": "841c0d60-de29-4337-813c-536b713a80c7"
      },
      "execution_count": 12,
      "outputs": [
        {
          "output_type": "stream",
          "name": "stdout",
          "text": [
            "1.7834200456264746\n"
          ]
        }
      ]
    },
    {
      "cell_type": "code",
      "source": [
        "matrix1 = np.random.randint(1, 11,(2, 2))\n",
        "matrix2 = np.random.randint(1, 11,(2, 3))\n",
        "print(np.dot(matrix1, matrix2))"
      ],
      "metadata": {
        "colab": {
          "base_uri": "https://localhost:8080/"
        },
        "id": "ja8wWTwME3sO",
        "outputId": "d35498d8-d77b-442c-f1a2-d73f8b5c6e45"
      },
      "execution_count": 16,
      "outputs": [
        {
          "output_type": "stream",
          "name": "stdout",
          "text": [
            "[[58 22 48]\n",
            " [73 22 57]]\n"
          ]
        }
      ]
    },
    {
      "cell_type": "code",
      "source": [
        "matrix = np.random.randint(1, 11, (3, 3))\n",
        "a_inv = np.linalg.inv(matrix)\n",
        "print(a_inv)"
      ],
      "metadata": {
        "colab": {
          "base_uri": "https://localhost:8080/"
        },
        "id": "a7wNBZNwGaxm",
        "outputId": "c6ebe778-1fe3-4a21-8e72-ffd1157ba15d"
      },
      "execution_count": 17,
      "outputs": [
        {
          "output_type": "stream",
          "name": "stdout",
          "text": [
            "[[ 0.00917431 -0.06422018  0.20183486]\n",
            " [-0.32110092  0.24770642 -0.06422018]\n",
            " [ 0.44954128 -0.14678899 -0.11009174]]\n"
          ]
        }
      ]
    },
    {
      "cell_type": "code",
      "source": [
        "matrix = np.random.rand(4, 4)\n",
        "print(matrix.T)"
      ],
      "metadata": {
        "colab": {
          "base_uri": "https://localhost:8080/"
        },
        "id": "NUU7I6xXG_Ml",
        "outputId": "38d6cfe8-ef9b-4fc2-a929-1ac8b38add0b"
      },
      "execution_count": 19,
      "outputs": [
        {
          "output_type": "stream",
          "name": "stdout",
          "text": [
            "[[0.18264548 0.4007491  0.87713331 0.79608372]\n",
            " [0.04760793 0.60833717 0.64115307 0.0482504 ]\n",
            " [0.21327726 0.19776236 0.4316728  0.41790726]\n",
            " [0.56014889 0.19233851 0.54825805 0.24466676]]\n"
          ]
        }
      ]
    },
    {
      "cell_type": "code",
      "source": [
        "matrix = np.random.randint(1, 11, (3, 4))\n",
        "vector = np.random.randint(1, 11, 4)\n",
        "print(np.dot(matrix, vector))"
      ],
      "metadata": {
        "colab": {
          "base_uri": "https://localhost:8080/"
        },
        "id": "7xqtRYWuH0KW",
        "outputId": "179b63bd-c9c4-4499-e7af-34d481994d9d"
      },
      "execution_count": 20,
      "outputs": [
        {
          "output_type": "stream",
          "name": "stdout",
          "text": [
            "[128 135 120]\n"
          ]
        }
      ]
    },
    {
      "cell_type": "code",
      "source": [
        "matrix = np.random.rand(2, 3)\n",
        "vector = np.random.rand(3)\n",
        "print(np.dot(matrix, vector))"
      ],
      "metadata": {
        "colab": {
          "base_uri": "https://localhost:8080/"
        },
        "id": "Z8aG0xS3Ihy4",
        "outputId": "b7b992a0-ef13-4f9a-80b1-0a861d522bb1"
      },
      "execution_count": 21,
      "outputs": [
        {
          "output_type": "stream",
          "name": "stdout",
          "text": [
            "[1.02765656 1.16012927]\n"
          ]
        }
      ]
    },
    {
      "cell_type": "code",
      "source": [
        "matrix1 = np.random.randint(1, 11,(2, 2))\n",
        "matrix2 = np.random.randint(1, 11,(2, 2))\n",
        "print(matrix1 * matrix2)"
      ],
      "metadata": {
        "colab": {
          "base_uri": "https://localhost:8080/"
        },
        "id": "OiKk_jNAI7Hc",
        "outputId": "b0b2b991-2814-4c86-ac33-491ccabc0676"
      },
      "execution_count": 23,
      "outputs": [
        {
          "output_type": "stream",
          "name": "stdout",
          "text": [
            "[[ 4 27]\n",
            " [45 15]]\n"
          ]
        }
      ]
    },
    {
      "cell_type": "code",
      "source": [
        "matrix1 = np.random.randint(1, 11,(2, 2))\n",
        "matrix2 = np.random.randint(1, 11,(2, 2))\n",
        "print(matrix1 + matrix2)"
      ],
      "metadata": {
        "colab": {
          "base_uri": "https://localhost:8080/"
        },
        "id": "oDMgaqy4LUa_",
        "outputId": "fab4ae09-b58e-4ce7-dc4a-da9840cad48b"
      },
      "execution_count": 24,
      "outputs": [
        {
          "output_type": "stream",
          "name": "stdout",
          "text": [
            "[[ 9 13]\n",
            " [ 9 14]]\n"
          ]
        }
      ]
    },
    {
      "cell_type": "code",
      "source": [
        "matrix = np.random.randint(1, 101,(5, 5))\n",
        "print(np.sum(matrix))"
      ],
      "metadata": {
        "colab": {
          "base_uri": "https://localhost:8080/"
        },
        "id": "2pntkkGxLczU",
        "outputId": "826e01cb-72c1-404c-b6a6-36a7ba77cd5b"
      },
      "execution_count": 26,
      "outputs": [
        {
          "output_type": "stream",
          "name": "stdout",
          "text": [
            "1266\n"
          ]
        }
      ]
    },
    {
      "cell_type": "code",
      "source": [
        "matrix1 = np.random.randint(1, 11,(4, 4))\n",
        "matrix2 = np.random.randint(1, 11,(4, 4))\n",
        "print(matrix1 - matrix2)"
      ],
      "metadata": {
        "colab": {
          "base_uri": "https://localhost:8080/"
        },
        "id": "OlGZuFfdL214",
        "outputId": "43a53f2f-2a3d-4a6f-fd71-ff4678dbf4b1"
      },
      "execution_count": 28,
      "outputs": [
        {
          "output_type": "stream",
          "name": "stdout",
          "text": [
            "[[-6 -1  3  5]\n",
            " [ 3  0 -4 -6]\n",
            " [-2  3  7  1]\n",
            " [ 0  1 -3 -6]]\n"
          ]
        }
      ]
    },
    {
      "cell_type": "code",
      "source": [
        "matrix = np.random.rand(3, 3)\n",
        "\n",
        "vector_column = np.sum(matrix, axis=1)\n",
        "print(vector_column.reshape(-1, 1))"
      ],
      "metadata": {
        "colab": {
          "base_uri": "https://localhost:8080/"
        },
        "id": "AW9fYM5-MkVw",
        "outputId": "b9bc0e5a-fce8-49a2-82af-742ec4cc349b"
      },
      "execution_count": 30,
      "outputs": [
        {
          "output_type": "stream",
          "name": "stdout",
          "text": [
            "[[1.65512646]\n",
            " [2.18474339]\n",
            " [1.31667284]]\n"
          ]
        }
      ]
    },
    {
      "cell_type": "code",
      "source": [
        "matrix = np.random.randint(1, 11,(3, 4))\n",
        "print(matrix**2)"
      ],
      "metadata": {
        "colab": {
          "base_uri": "https://localhost:8080/"
        },
        "id": "4se-zF0FNtJn",
        "outputId": "a7274531-4f89-4305-a682-872f899b8e2e"
      },
      "execution_count": 31,
      "outputs": [
        {
          "output_type": "stream",
          "name": "stdout",
          "text": [
            "[[ 64  16  64   9]\n",
            " [ 36   1 100  81]\n",
            " [  1   1  81   4]]\n"
          ]
        }
      ]
    },
    {
      "cell_type": "code",
      "source": [
        "vector = np.random.randint(1, 51, 4)\n",
        "print(np.sqrt(vector))"
      ],
      "metadata": {
        "colab": {
          "base_uri": "https://localhost:8080/"
        },
        "id": "e-FylD5MOSs7",
        "outputId": "7ea8ec1e-c504-42e2-a881-55d859ac6943"
      },
      "execution_count": 34,
      "outputs": [
        {
          "output_type": "stream",
          "name": "stdout",
          "text": [
            "[4.89897949 6.32455532 3.16227766 5.74456265]\n"
          ]
        }
      ]
    }
  ]
}